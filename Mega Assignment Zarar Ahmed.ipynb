{
 "cells": [
  {
   "cell_type": "markdown",
   "metadata": {},
   "source": [
    "###### 1. Which of the following terms are related to dictionaries?\n",
    "#### Answer: Items, Key, Values"
   ]
  },
  {
   "cell_type": "markdown",
   "metadata": {},
   "source": [
    "###### 2. Just like lists, + operator is used to extend dictionaries?\n",
    "#### Answer: False"
   ]
  },
  {
   "cell_type": "code",
   "execution_count": 14,
   "metadata": {},
   "outputs": [
    {
     "name": "stdout",
     "output_type": "stream",
     "text": [
      "('sub', 'maybe')\n"
     ]
    }
   ],
   "source": [
    "newdict = {\"new\":\"yes\", \"old\":\"no\"}\n",
    "anotherdict = {\"ai\":\"yes\", \"python\":\"yes\", \"sub\":\"maybe\"}\n",
    "\n",
    "# mydict = newdict + anotherdict\n",
    "# print(newdict[\"new\"])\n",
    "# print(newdict[\"some\"])\n",
    "# print(mydict)\n",
    "print(anotherdict.popitem())"
   ]
  },
  {
   "cell_type": "markdown",
   "metadata": {},
   "source": [
    "###### 3. To access items from a dictionary, we specify the index of that item within [] like myDict[0]?\n",
    "#### Answer: False, we specify key of the item and it returns the value"
   ]
  },
  {
   "cell_type": "markdown",
   "metadata": {},
   "source": [
    "###### 4. When we use [] to access the value from a dictionary which does not exist in that dictionary….?\n",
    "#### Answer: None of Above, we receive keyerror."
   ]
  },
  {
   "cell_type": "markdown",
   "metadata": {},
   "source": [
    "###### 5. What does return the pop method of a dictionary?\n",
    "#### Answer: value of the key, if it exists in the dictionary"
   ]
  },
  {
   "cell_type": "markdown",
   "metadata": {},
   "source": [
    "###### 6. What does return popitem method return.?\n",
    "#### Answer: b. tupple containing the pair of last item of the dictionary "
   ]
  },
  {
   "cell_type": "markdown",
   "metadata": {},
   "source": [
    "###### 7. Which of the following 2 methods can be used to iterate through the items of a dictionary?\n",
    "#### Answer: keys(), values()"
   ]
  },
  {
   "cell_type": "markdown",
   "metadata": {},
   "source": [
    "###### 8. Which one of the following is used to enclose a dictionary?\n",
    "#### Answer: {} curly braces"
   ]
  },
  {
   "cell_type": "markdown",
   "metadata": {},
   "source": [
    "###### 9. Write Python Program add key-value pair in dictionary and check if a Given Key or Value or Both Exists in a Dictionary or Not."
   ]
  },
  {
   "cell_type": "code",
   "execution_count": 18,
   "metadata": {},
   "outputs": [
    {
     "name": "stdout",
     "output_type": "stream",
     "text": [
      "yes\n",
      "maybe\n"
     ]
    }
   ],
   "source": [
    "anotherdict = {\"ai\":\"yes\", \"python\":\"yes\", \"sub\":\"maybe\"}\n",
    "\n",
    "print(anotherdict[\"ai\"])\n",
    "print(anotherdict[\"sub\"])"
   ]
  }
 ],
 "metadata": {
  "kernelspec": {
   "display_name": "Python 3",
   "language": "python",
   "name": "python3"
  },
  "language_info": {
   "codemirror_mode": {
    "name": "ipython",
    "version": 3
   },
   "file_extension": ".py",
   "mimetype": "text/x-python",
   "name": "python",
   "nbconvert_exporter": "python",
   "pygments_lexer": "ipython3",
   "version": "3.7.4"
  }
 },
 "nbformat": 4,
 "nbformat_minor": 2
}
