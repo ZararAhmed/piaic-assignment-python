{
 "cells": [
  {
   "cell_type": "markdown",
   "metadata": {},
   "source": [
    "# Object-Oriented Programming"
   ]
  },
  {
   "cell_type": "code",
   "execution_count": null,
   "metadata": {},
   "outputs": [],
   "source": [
    "class Parrot:\n",
    "    \n",
    "    # instance attributes\n",
    "    def __init__(self, name, age):\n",
    "        self.name = name\n",
    "        self.age = age\n",
    "    \n",
    "    # instance method\n",
    "    def sing(self, song):\n",
    "        return \"{} sings {}\".format(self.name, song)\n",
    "\n",
    "    def dance(self):\n",
    "        return \"{} is now dancing\".format(self.name)\n",
    "\n",
    "# instantiate the object\n",
    "blu = Parrot(\"Blu\", 10)\n",
    "\n",
    "# call our instance methods\n",
    "print(blu.sing(\"'Happy'\"))\n",
    "print(blu.dance())"
   ]
  },
  {
   "cell_type": "code",
   "execution_count": 1,
   "metadata": {},
   "outputs": [
    {
     "name": "stdout",
     "output_type": "stream",
     "text": [
      "Mitthu is singing Mitthu churi khaye ga\n",
      "Mitthu is now dancing\n"
     ]
    }
   ],
   "source": [
    "class Parrot:\n",
    "    def __init__(self, name, age):\n",
    "        self.name = name\n",
    "        self.age = age\n",
    "        \n",
    "    def sing(self, song):\n",
    "        return \"{} is singing {}\".format(self.name, song)\n",
    "    \n",
    "    def dance(self):\n",
    "        return \"{} is now dancing\".format(self.name)\n",
    "\n",
    "mitthu = Parrot(\"Mitthu\", 10)\n",
    "print(mitthu.sing(\"Mitthu churi khaye ga\"))\n",
    "print(mitthu.dance())"
   ]
  },
  {
   "cell_type": "code",
   "execution_count": 18,
   "metadata": {},
   "outputs": [],
   "source": [
    "class some:\n",
    "    def __init__(self, name, age):\n",
    "        self.__sname = name\n",
    "        self.__sage = age\n",
    "    \n",
    "    def display(self):\n",
    "        print(self.__sname)     # use __ before a variable or method to make it private\n",
    "        print(self.__sage)\n",
    "        \n",
    "    def change(self, a, b):\n",
    "        self.__sname = a\n",
    "        self.__sage = b\n",
    "        \n",
    "    def __info(self):\n",
    "        print('hello') #private method 'info'\n",
    "        \n",
    "    def abcinfo(self):\n",
    "        self.__info() #to acces private method 'info'\n",
    "\n",
    "newobj = some(\"zarar\",25)\n"
   ]
  },
  {
   "cell_type": "markdown",
   "metadata": {},
   "source": [
    "## Abstract Class"
   ]
  },
  {
   "cell_type": "code",
   "execution_count": 21,
   "metadata": {},
   "outputs": [],
   "source": [
    "class A:\n",
    "    def __init__(self,A, B):\n",
    "        self.a = A\n",
    "        self.b = B\n",
    "\n",
    "class B(A):\n",
    "    pass\n"
   ]
  },
  {
   "cell_type": "code",
   "execution_count": 72,
   "metadata": {},
   "outputs": [],
   "source": [
    "from abc import ABC, abstractmethod\n",
    "\n",
    "class A(ABC):\n",
    "\n",
    "    @abstractmethod\n",
    "    def __init__(self, a,b):\n",
    "\n",
    "        self.a = a\n",
    "        self.b = b\n",
    "        \n",
    "    def abc(self):\n",
    "        print(\"this is the parent\")\n",
    "        return \"{},{}\".format(self.name,self.age)\n",
    "    \n",
    "class B(A):\n",
    "    \n",
    "    def __init__(self,name,age):\n",
    "        self.name = name\n",
    "        self.age = age\n",
    "    \n",
    "        \n",
    "    def abc(self, name =None):        #overriding\n",
    "        print(\"this is the child\")\n",
    "        if(name):\n",
    "            self.name = name\n",
    "            return \"{},{}\".format(self.name,self.age)\n",
    "        else:\n",
    "            return \"{},{}\".format(self.name,self.age)\n",
    "        \n",
    "    def __abc(self):\n",
    "        print(\"hi\")\n",
    "    \n",
    "    def enc(self):\n",
    "        self.__abc()\n",
    "        return\n",
    "    \n",
    "    \n",
    "#     def abc(self, name):\n",
    "#         self.name=name    \n",
    "#         return \"{},{}\".format(self.name,self.age)\n"
   ]
  },
  {
   "cell_type": "code",
   "execution_count": 73,
   "metadata": {},
   "outputs": [
    {
     "name": "stdout",
     "output_type": "stream",
     "text": [
      "this is the child\n",
      "5,7\n",
      "this is the child\n",
      "2,7\n",
      "hi\n",
      "None\n"
     ]
    }
   ],
   "source": [
    "obj1 = B(5,7)\n",
    "print(obj1.abc())\n",
    "print(obj1.abc(2))\n",
    "print(obj1.enc())"
   ]
  },
  {
   "cell_type": "markdown",
   "metadata": {},
   "source": [
    "## Exception Handling"
   ]
  },
  {
   "cell_type": "code",
   "execution_count": 88,
   "metadata": {},
   "outputs": [
    {
     "name": "stdout",
     "output_type": "stream",
     "text": [
      "OK\n",
      "ENter no: 5\n",
      "Enter no: 0\n",
      "error: can't divide 5 by 0\n",
      "End\n"
     ]
    }
   ],
   "source": [
    "print('OK')\n",
    "a=int(input('ENter no: '))\n",
    "b=int(input('Enter no: '))\n",
    "try:\n",
    "    print(a//b)\n",
    "except ZeroDivisionError:\n",
    "    print('error: can\\'t divide {} by {}'.format(a,b))\n",
    "finally:\n",
    "    print('End')"
   ]
  },
  {
   "cell_type": "raw",
   "metadata": {},
   "source": [
    "try:\n",
    "    your code\n",
    "except (errorclass,errorclass,....):\n",
    "    message show against errorclass\n",
    "else:\n",
    "    message show if no exception\n",
    "finally:\n",
    "    always runs"
   ]
  },
  {
   "cell_type": "code",
   "execution_count": null,
   "metadata": {},
   "outputs": [],
   "source": []
  }
 ],
 "metadata": {
  "kernelspec": {
   "display_name": "Python 3",
   "language": "python",
   "name": "python3"
  },
  "language_info": {
   "codemirror_mode": {
    "name": "ipython",
    "version": 3
   },
   "file_extension": ".py",
   "mimetype": "text/x-python",
   "name": "python",
   "nbconvert_exporter": "python",
   "pygments_lexer": "ipython3",
   "version": "3.7.4"
  }
 },
 "nbformat": 4,
 "nbformat_minor": 2
}
