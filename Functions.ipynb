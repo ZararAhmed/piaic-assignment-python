{
 "cells": [
  {
   "cell_type": "markdown",
   "metadata": {},
   "source": [
    "# Functions\n",
    "#### A set of predefined sequential instructions"
   ]
  },
  {
   "cell_type": "markdown",
   "metadata": {},
   "source": [
    "### There are two Types of functions:\n",
    "\n",
    "###### -Predefined\n",
    "###### -Userdefined\n",
    "\n",
    "\n",
    "#### Functions that do not require arguments to run are called \"Default Functions\""
   ]
  },
  {
   "cell_type": "markdown",
   "metadata": {},
   "source": [
    "### Recursive Function\n",
    "##### A function that calls itself in it's own body."
   ]
  },
  {
   "cell_type": "markdown",
   "metadata": {},
   "source": [
    "#### Generator Functions - gives output one by one in a list, tuple or dictionary, does not allocate memory immediately, remembers previous memory executions\n",
    "#### Lambda Functions - function with no name, never to be used after or before.\n"
   ]
  },
  {
   "cell_type": "markdown",
   "metadata": {},
   "source": [
    "#### Keyword Argument - single * for list, double * for dictionary"
   ]
  },
  {
   "cell_type": "markdown",
   "metadata": {},
   "source": [
    "#### Positional Argument - steric before the name of the argument - spread operator in javaScript "
   ]
  },
  {
   "cell_type": "code",
   "execution_count": 7,
   "metadata": {},
   "outputs": [
    {
     "name": "stdout",
     "output_type": "stream",
     "text": [
      "0\n",
      "6\n"
     ]
    }
   ],
   "source": [
    "def abc(x , y=0, z=0):\n",
    "    print(x*y*z)\n",
    "    print(x+y+z)\n",
    "\n",
    "abc(2, 4)\n",
    "    "
   ]
  },
  {
   "cell_type": "code",
   "execution_count": 12,
   "metadata": {},
   "outputs": [
    {
     "name": "stdout",
     "output_type": "stream",
     "text": [
      "2 3 4 5   z a r a r   q a s e e m   A I   0 9 : 0 0  \n"
     ]
    }
   ],
   "source": [
    "def id_card(ssid, sname, fname, course, timing):\n",
    "    text = \"\"\"{} {} {} {} {} \"\"\".format(ssid, sname, fname, course, timing)\n",
    "    return text\n",
    "    \n",
    "card = id_card(\"2345\", \"zarar\", \"qaseem\", \"AI\", \"09:00\")\n",
    "print(*card)"
   ]
  },
  {
   "cell_type": "code",
   "execution_count": 16,
   "metadata": {},
   "outputs": [
    {
     "name": "stdout",
     "output_type": "stream",
     "text": [
      "qaseem 2345 zarar AI 09:00 \n"
     ]
    }
   ],
   "source": [
    "card = id_card(sname=\"2345\", fname=\"zarar\", ssid=\"qaseem\", course=\"AI\", timing=\"09:00\")\n",
    "print(card)"
   ]
  },
  {
   "cell_type": "code",
   "execution_count": 17,
   "metadata": {},
   "outputs": [
    {
     "name": "stdout",
     "output_type": "stream",
     "text": [
      "120\n"
     ]
    }
   ],
   "source": [
    "def fact(n):\n",
    "    if(n == 1):\n",
    "        return 1\n",
    "    return n * fact(n-1)\n",
    "factfive = fact(5)\n",
    "print(factfive)"
   ]
  },
  {
   "cell_type": "code",
   "execution_count": 18,
   "metadata": {},
   "outputs": [
    {
     "name": "stdout",
     "output_type": "stream",
     "text": [
      "5\n"
     ]
    }
   ],
   "source": [
    "xyz = lambda a,b : a + b\n",
    "print(xyz(2,3))"
   ]
  },
  {
   "cell_type": "code",
   "execution_count": 20,
   "metadata": {},
   "outputs": [
    {
     "name": "stdout",
     "output_type": "stream",
     "text": [
      "55\n"
     ]
    }
   ],
   "source": [
    "xory = lambda a,b: a if (a > b) else b\n",
    "\n",
    "print(xory(55,5))"
   ]
  }
 ],
 "metadata": {
  "kernelspec": {
   "display_name": "Python 3",
   "language": "python",
   "name": "python3"
  },
  "language_info": {
   "codemirror_mode": {
    "name": "ipython",
    "version": 3
   },
   "file_extension": ".py",
   "mimetype": "text/x-python",
   "name": "python",
   "nbconvert_exporter": "python",
   "pygments_lexer": "ipython3",
   "version": "3.7.4"
  }
 },
 "nbformat": 4,
 "nbformat_minor": 2
}
